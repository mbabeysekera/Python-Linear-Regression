{
 "cells": [
  {
   "cell_type": "code",
   "execution_count": 1,
   "metadata": {},
   "outputs": [],
   "source": [
    "'''This project was done to represent the behviour of the Linear regression learning algorithm with model parameters.\n",
    "   For more project like this, go to:\n",
    "   LinkedIn: https://www.linkedin.com/in/babey/\n",
    "   GitHub: https://github.com/mbabeysekera/\n",
    "'''"
   ]
  },
  {
   "cell_type": "code",
   "execution_count": 2,
   "metadata": {},
   "outputs": [],
   "source": [
    "import os"
   ]
  },
  {
   "cell_type": "code",
   "execution_count": 3,
   "metadata": {},
   "outputs": [
    {
     "name": "stdout",
     "output_type": "stream",
     "text": [
      "C:\\Users\\Buddhika Abeysekera\\Desktop\\Jupyter\n"
     ]
    }
   ],
   "source": [
    "curr_dir = os.getcwd() # Get the current directory\n",
    "print(curr_dir) "
   ]
  },
  {
   "cell_type": "code",
   "execution_count": 4,
   "metadata": {},
   "outputs": [
    {
     "name": "stdout",
     "output_type": "stream",
     "text": [
      "C:\\Users\\Buddhika Abeysekera\\Desktop\\Jupyter\\temp_rain.csv\n"
     ]
    }
   ],
   "source": [
    "file_name = \"temp_rain.csv\" # File name to be loaded \n",
    "file_path = os.path.join(curr_dir, file_name) # Join path name and file name with OS JOIN\n",
    "print(file_path)"
   ]
  },
  {
   "cell_type": "code",
   "execution_count": 5,
   "metadata": {},
   "outputs": [],
   "source": [
    "# Import NumPy and Pandas\n",
    "import numpy as np \n",
    "import pandas as pd"
   ]
  },
  {
   "cell_type": "code",
   "execution_count": 6,
   "metadata": {},
   "outputs": [
    {
     "data": {
      "text/html": [
       "<div>\n",
       "<style scoped>\n",
       "    .dataframe tbody tr th:only-of-type {\n",
       "        vertical-align: middle;\n",
       "    }\n",
       "\n",
       "    .dataframe tbody tr th {\n",
       "        vertical-align: top;\n",
       "    }\n",
       "\n",
       "    .dataframe thead th {\n",
       "        text-align: right;\n",
       "    }\n",
       "</style>\n",
       "<table border=\"1\" class=\"dataframe\">\n",
       "  <thead>\n",
       "    <tr style=\"text-align: right;\">\n",
       "      <th></th>\n",
       "      <th>YY</th>\n",
       "      <th>Temp</th>\n",
       "      <th>MM</th>\n",
       "      <th>Rain(mm)</th>\n",
       "    </tr>\n",
       "  </thead>\n",
       "  <tbody>\n",
       "    <tr>\n",
       "      <th>0</th>\n",
       "      <td>1991</td>\n",
       "      <td>25.6446</td>\n",
       "      <td>Jan</td>\n",
       "      <td>190.0050</td>\n",
       "    </tr>\n",
       "    <tr>\n",
       "      <th>1</th>\n",
       "      <td>1991</td>\n",
       "      <td>26.1602</td>\n",
       "      <td>Feb</td>\n",
       "      <td>46.0487</td>\n",
       "    </tr>\n",
       "    <tr>\n",
       "      <th>2</th>\n",
       "      <td>1991</td>\n",
       "      <td>27.5983</td>\n",
       "      <td>Mar</td>\n",
       "      <td>104.3850</td>\n",
       "    </tr>\n",
       "    <tr>\n",
       "      <th>3</th>\n",
       "      <td>1991</td>\n",
       "      <td>28.2959</td>\n",
       "      <td>Apr</td>\n",
       "      <td>93.7386</td>\n",
       "    </tr>\n",
       "    <tr>\n",
       "      <th>4</th>\n",
       "      <td>1991</td>\n",
       "      <td>28.8801</td>\n",
       "      <td>May</td>\n",
       "      <td>120.1350</td>\n",
       "    </tr>\n",
       "  </tbody>\n",
       "</table>\n",
       "</div>"
      ],
      "text/plain": [
       "     YY     Temp    MM  Rain(mm)\n",
       "0  1991  25.6446   Jan  190.0050\n",
       "1  1991  26.1602   Feb   46.0487\n",
       "2  1991  27.5983   Mar  104.3850\n",
       "3  1991  28.2959   Apr   93.7386\n",
       "4  1991  28.8801   May  120.1350"
      ]
     },
     "execution_count": 6,
     "metadata": {},
     "output_type": "execute_result"
    }
   ],
   "source": [
    "df = pd.read_csv(file_path) # Upload data with pandas dataframe\n",
    "df.rename(columns = {'Year': 'YY', 'Temperature - (Celsius)': 'Temp','Month': \n",
    "                     'MM','Rainfall - (MM)': 'Rain(mm)'}, inplace = True)\n",
    "df.head() # print the first 5 rows of the dataframe"
   ]
  },
  {
   "cell_type": "code",
   "execution_count": 7,
   "metadata": {
    "scrolled": true
   },
   "outputs": [
    {
     "name": "stdout",
     "output_type": "stream",
     "text": [
      "     YY     Temp  MM  Rain(mm)\n",
      "0  1991  25.6446   1  190.0050\n",
      "1  1991  26.1602   2   46.0487\n",
      "2  1991  27.5983   3  104.3850\n",
      "3  1991  28.2959   4   93.7386\n",
      "4  1991  28.8801   5  120.1350 \n",
      "\n",
      "<class 'pandas.core.frame.DataFrame'>\n",
      "RangeIndex: 312 entries, 0 to 311\n",
      "Data columns (total 4 columns):\n",
      "YY          312 non-null int64\n",
      "Temp        312 non-null float64\n",
      "MM          312 non-null int64\n",
      "Rain(mm)    312 non-null float64\n",
      "dtypes: float64(2), int64(2)\n",
      "memory usage: 9.8 KB\n"
     ]
    },
    {
     "data": {
      "text/plain": [
       "(312, 4)"
      ]
     },
     "execution_count": 7,
     "metadata": {},
     "output_type": "execute_result"
    }
   ],
   "source": [
    "month = np.array(['Jan', 'Feb', 'Mar', 'Apr', 'May', 'Jun','Jul', 'Aug', 'Sep', 'Oct', 'Nov', 'Dec',]) # Create a numpy array with month names\n",
    "for val in range(0, 12): # loop to replace months with the month number\n",
    "    df = df.replace(to_replace = month[val], value = val + 1, regex = True)\n",
    "print(df.head(), '\\n') # print the first 5 rows of the dataframe\n",
    "df.info() # returns the overall details on the dataframe\n",
    "df.shape"
   ]
  },
  {
   "cell_type": "code",
   "execution_count": 8,
   "metadata": {},
   "outputs": [],
   "source": [
    "from matplotlib import pyplot as plt"
   ]
  },
  {
   "cell_type": "code",
   "execution_count": 9,
   "metadata": {},
   "outputs": [
    {
     "data": {
      "image/png": "[encoded data removed]",
      "text/plain": [
       "<Figure size 720x360 with 1 Axes>"
      ]
     },
     "metadata": {
      "needs_background": "light"
     },
     "output_type": "display_data"
    }
   ],
   "source": [
    "# Histogramic representation of the data\n",
    "df['Temp'].hist(figsize = (10, 5), bins = 20, linewidth = '1', edgecolor = 'k', grid = False)\n",
    "plt.show()"
   ]
  },
  {
   "cell_type": "code",
   "execution_count": 10,
   "metadata": {},
   "outputs": [
    {
     "data": {
      "image/png": "[encoded data removed]",
      "text/plain": [
       "<Figure size 432x288 with 1 Axes>"
      ]
     },
     "metadata": {
      "needs_background": "light"
     },
     "output_type": "display_data"
    },
    {
     "name": "stdout",
     "output_type": "stream",
     "text": [
      "YY          0.004784\n",
      "Temp       -0.433845\n",
      "MM          0.522010\n",
      "Rain(mm)    1.000000\n",
      "Name: Rain(mm), dtype: float64\n"
     ]
    }
   ],
   "source": [
    "# let's try to figure out the correlation of these data\n",
    "corr = df.corr()['Rain(mm)']\n",
    "plt.bar(df.columns, corr, color = 'g')\n",
    "plt.show()\n",
    "print(corr)"
   ]
  },
  {
   "cell_type": "markdown",
   "metadata": {},
   "source": [
    "### Year does not have a strong correlation with the rain fall in sri lanka.\n",
    "### But temperature and Month have a better correlation to rain fall.\n",
    "### So let's try to develop a model with strong correlations to make a better and acceptable prediction on the rain fall.\n"
   ]
  },
  {
   "cell_type": "code",
   "execution_count": 11,
   "metadata": {},
   "outputs": [
    {
     "data": {
      "image/png": "[encoded data removed]",
      "text/plain": [
       "<Figure size 432x288 with 1 Axes>"
      ]
     },
     "metadata": {
      "needs_background": "light"
     },
     "output_type": "display_data"
    }
   ],
   "source": [
    "X = df.iloc[:, 2:3] # Get the X set for training\n",
    "y = df.iloc[:,-1:] # Separate y set for training\n",
    "plt.scatter(X, y)\n",
    "plt.show()"
   ]
  },
  {
   "cell_type": "code",
   "execution_count": 12,
   "metadata": {},
   "outputs": [],
   "source": [
    "# separate training and testing data \n",
    "X_train = X.iloc[:-24]\n",
    "X_test = X.iloc[-24:]\n",
    "y_train = y.iloc[:-24]\n",
    "y_test = y.iloc[-24:]"
   ]
  },
  {
   "cell_type": "code",
   "execution_count": 13,
   "metadata": {},
   "outputs": [
    {
     "data": {
      "text/plain": [
       "LinearRegression(copy_X=True, fit_intercept=True, n_jobs=None,\n",
       "         normalize=False)"
      ]
     },
     "execution_count": 13,
     "metadata": {},
     "output_type": "execute_result"
    }
   ],
   "source": [
    "from sklearn.linear_model import LinearRegression # select linear regression as the learning algorithm\n",
    "regressor = LinearRegression() # Set the model\n",
    "regressor.fit(X_train, y_train) # train the model with learning algorithm"
   ]
  },
  {
   "cell_type": "code",
   "execution_count": 14,
   "metadata": {},
   "outputs": [
    {
     "data": {
      "text/plain": [
       "array([[ 48.87777388],\n",
       "       [ 65.68210285],\n",
       "       [ 82.48643182],\n",
       "       [ 99.2907608 ],\n",
       "       [116.09508977],\n",
       "       [132.89941874],\n",
       "       [149.70374772],\n",
       "       [166.50807669],\n",
       "       [183.31240566],\n",
       "       [200.11673463],\n",
       "       [216.92106361],\n",
       "       [233.72539258],\n",
       "       [ 48.87777388],\n",
       "       [ 65.68210285],\n",
       "       [ 82.48643182],\n",
       "       [ 99.2907608 ],\n",
       "       [116.09508977],\n",
       "       [132.89941874],\n",
       "       [149.70374772],\n",
       "       [166.50807669],\n",
       "       [183.31240566],\n",
       "       [200.11673463],\n",
       "       [216.92106361],\n",
       "       [233.72539258]])"
      ]
     },
     "execution_count": 14,
     "metadata": {},
     "output_type": "execute_result"
    }
   ],
   "source": [
    "y_pred = regressor.predict(X_test) # test your result with testing data set\n",
    "y_pred"
   ]
  },
  {
   "cell_type": "code",
   "execution_count": 15,
   "metadata": {},
   "outputs": [
    {
     "data": {
      "text/plain": [
       "0.18249578737640337"
      ]
     },
     "execution_count": 15,
     "metadata": {},
     "output_type": "execute_result"
    }
   ],
   "source": [
    "from sklearn.metrics import r2_score # use R squared value to clarify the results accuracy\n",
    "r2_score(y_test, y_pred)"
   ]
  },
  {
   "cell_type": "code",
   "execution_count": 16,
   "metadata": {},
   "outputs": [
    {
     "data": {
      "image/png": "[encoded data removed]",
      "text/plain": [
       "<Figure size 432x288 with 1 Axes>"
      ]
     },
     "metadata": {
      "needs_background": "light"
     },
     "output_type": "display_data"
    }
   ],
   "source": [
    "# visualize the model predictions to see the behavior \n",
    "plt.scatter(X_test, y_test, color = 'g', linewidth = '1') \n",
    "plt.plot(X_test, y_pred, color = 'b', linewidth = '1')\n",
    "plt.xlabel(\"X_test\")\n",
    "plt.ylabel(\"y\")\n",
    "plt.show()"
   ]
  },
  {
   "cell_type": "markdown",
   "metadata": {},
   "source": [
    "#### Here you see that the accuracy score is really low. Which implies that this model cannot be used to predict the rain fall."
   ]
  },
  {
   "cell_type": "markdown",
   "metadata": {},
   "source": [
    "#### Let's try with temperature column along with month to check whether the model going to work or not"
   ]
  },
  {
   "cell_type": "code",
   "execution_count": 17,
   "metadata": {},
   "outputs": [],
   "source": [
    "# take the values again from dataframe\n",
    "XX = df.iloc[:, 1: 3] \n",
    "yy = df.iloc[:,-1:]"
   ]
  },
  {
   "cell_type": "code",
   "execution_count": 18,
   "metadata": {},
   "outputs": [],
   "source": [
    "# here sklearn model splitting technique has been used for the test and train data separation\n",
    "from sklearn.model_selection import train_test_split\n",
    "XX_train, XX_test, yy_train, yy_test = train_test_split(XX, yy, test_size = 0.2, random_state = 0)"
   ]
  },
  {
   "cell_type": "code",
   "execution_count": 19,
   "metadata": {},
   "outputs": [
    {
     "data": {
      "text/plain": [
       "LinearRegression(copy_X=True, fit_intercept=True, n_jobs=None,\n",
       "         normalize=False)"
      ]
     },
     "execution_count": 19,
     "metadata": {},
     "output_type": "execute_result"
    }
   ],
   "source": [
    "regr = LinearRegression()\n",
    "regr.fit(XX_train, yy_train)"
   ]
  },
  {
   "cell_type": "code",
   "execution_count": 20,
   "metadata": {},
   "outputs": [
    {
     "name": "stdout",
     "output_type": "stream",
     "text": [
      "[[132.72575021]\n",
      " [188.92560434]\n",
      " [168.47257855]\n",
      " [175.39418514]\n",
      " [128.30417546]\n",
      " [289.34134011]\n",
      " [ 96.88356251]\n",
      " [177.13803053]\n",
      " [ 81.75676486]\n",
      " [152.77028791]\n",
      " [ 86.10869619]\n",
      " [241.2210933 ]\n",
      " [ 92.80234494]\n",
      " [239.76148703]\n",
      " [120.84465598]\n",
      " [164.86197356]\n",
      " [140.22218241]\n",
      " [198.6396682 ]\n",
      " [261.37518308]\n",
      " [161.78527718]\n",
      " [179.40359394]\n",
      " [162.74554446]\n",
      " [289.06478313]\n",
      " [149.77108029]\n",
      " [183.59420038]\n",
      " [ 62.82730876]\n",
      " [131.50429022]\n",
      " [214.42646236]\n",
      " [154.9603647 ]\n",
      " [131.26948083]\n",
      " [194.04574951]\n",
      " [104.05867966]\n",
      " [111.16198805]\n",
      " [ 34.22286687]\n",
      " [ 62.49764419]\n",
      " [141.85079572]\n",
      " [156.52367984]\n",
      " [139.28178785]\n",
      " [ 67.89685264]\n",
      " [257.84908161]\n",
      " [112.92437141]\n",
      " [158.20155967]\n",
      " [ 52.27522445]\n",
      " [ 60.87671301]\n",
      " [157.79123265]\n",
      " [279.49283883]\n",
      " [ 71.56958212]\n",
      " [ 68.44361922]\n",
      " [245.68057457]\n",
      " [105.03548278]\n",
      " [135.77422434]\n",
      " [151.91757056]\n",
      " [253.19754688]\n",
      " [ 84.76114831]\n",
      " [121.07144227]\n",
      " [ 75.99449377]\n",
      " [113.49618654]\n",
      " [ 39.12473847]\n",
      " [ 74.64694588]\n",
      " [121.48611452]\n",
      " [125.9308989 ]\n",
      " [217.78355679]\n",
      " [114.32652486]]\n"
     ]
    }
   ],
   "source": [
    "yy_pred = regr.predict(XX_test)\n",
    "print(yy_pred)"
   ]
  },
  {
   "cell_type": "code",
   "execution_count": 21,
   "metadata": {},
   "outputs": [
    {
     "data": {
      "text/plain": [
       "0.45570648420983884"
      ]
     },
     "execution_count": 21,
     "metadata": {},
     "output_type": "execute_result"
    }
   ],
   "source": [
    "r2_score(yy_test, yy_pred)"
   ]
  },
  {
   "cell_type": "markdown",
   "metadata": {},
   "source": [
    "#### now, with more input parameters, the accuracy of the model has been increased upto a certain level. \n",
    "#### but still the model is not quite predictable because the R value is still less than 50%."
   ]
  },
  {
   "cell_type": "code",
   "execution_count": null,
   "metadata": {},
   "outputs": [],
   "source": [
    " "
   ]
  }
 ],
 "metadata": {
  "kernelspec": {
   "display_name": "Python 3",
   "language": "python",
   "name": "python3"
  },
  "language_info": {
   "codemirror_mode": {
    "name": "ipython",
    "version": 3
   },
   "file_extension": ".py",
   "mimetype": "text/x-python",
   "name": "python",
   "nbconvert_exporter": "python",
   "pygments_lexer": "ipython3",
   "version": "3.7.1"
  }
 },
 "nbformat": 4,
 "nbformat_minor": 2
}
